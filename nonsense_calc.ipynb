{
 "cells": [
  {
   "cell_type": "markdown",
   "metadata": {},
   "source": [
    "<h4 style=\"color: lime\">basic nonsense calculus</h4>\n",
    "\n",
    "Let's try to use some knowledge learned in Python to perform some basic calculations.\n",
    "- Nonsense calculus just playing python concepts."
   ]
  },
  {
   "cell_type": "code",
   "execution_count": 1,
   "metadata": {},
   "outputs": [],
   "source": [
    "# Sum function\n",
    "\n",
    "def add_up(*args):\n",
    "    return sum(args)"
   ]
  },
  {
   "cell_type": "code",
   "execution_count": 2,
   "metadata": {},
   "outputs": [
    {
     "name": "stdout",
     "output_type": "stream",
     "text": [
      "236\n"
     ]
    }
   ],
   "source": [
    "print(add_up(23, 67, 12, 45, 89))"
   ]
  },
  {
   "cell_type": "code",
   "execution_count": 3,
   "metadata": {},
   "outputs": [
    {
     "name": "stdout",
     "output_type": "stream",
     "text": [
      "731\n"
     ]
    }
   ],
   "source": [
    "data_calculus = [87, 56, 23, 56, 90, 234, 185]\n",
    "print(add_up(*data_calculus))"
   ]
  },
  {
   "cell_type": "code",
   "execution_count": 7,
   "metadata": {},
   "outputs": [],
   "source": [
    "# multiply fuction\n",
    "\n",
    "def multiply(*args):\n",
    "    multiplic = 0\n",
    "    for data in data_calculus:\n",
    "        print(data)\n",
    "        for i in range(10):\n",
    "            multiplic = i * data\n",
    "\n",
    "    return multiplic\n",
    "\n",
    "    "
   ]
  },
  {
   "cell_type": "code",
   "execution_count": 8,
   "metadata": {},
   "outputs": [
    {
     "name": "stdout",
     "output_type": "stream",
     "text": [
      "87\n",
      "56\n",
      "23\n",
      "56\n",
      "90\n",
      "234\n",
      "185\n",
      "1665\n"
     ]
    }
   ],
   "source": [
    "print(multiply(*data_calculus))"
   ]
  },
  {
   "cell_type": "code",
   "execution_count": 12,
   "metadata": {},
   "outputs": [],
   "source": [
    "def nonsense_calculus(*args, operation):\n",
    "   if callable(operation):\n",
    "    return operation(*args)"
   ]
  },
  {
   "cell_type": "code",
   "execution_count": 13,
   "metadata": {},
   "outputs": [
    {
     "name": "stdout",
     "output_type": "stream",
     "text": [
      "731\n"
     ]
    }
   ],
   "source": [
    "print(nonsense_calculus(*data_calculus, operation=add_up))"
   ]
  },
  {
   "cell_type": "code",
   "execution_count": 14,
   "metadata": {},
   "outputs": [
    {
     "name": "stdout",
     "output_type": "stream",
     "text": [
      "87\n",
      "56\n",
      "23\n",
      "56\n",
      "90\n",
      "234\n",
      "185\n",
      "1665\n"
     ]
    }
   ],
   "source": [
    "print(nonsense_calculus(*data_calculus, operation=multiply))"
   ]
  },
  {
   "cell_type": "code",
   "execution_count": null,
   "metadata": {},
   "outputs": [],
   "source": []
  }
 ],
 "metadata": {
  "kernelspec": {
   "display_name": "base",
   "language": "python",
   "name": "python3"
  },
  "language_info": {
   "codemirror_mode": {
    "name": "ipython",
    "version": 3
   },
   "file_extension": ".py",
   "mimetype": "text/x-python",
   "name": "python",
   "nbconvert_exporter": "python",
   "pygments_lexer": "ipython3",
   "version": "3.11.7"
  }
 },
 "nbformat": 4,
 "nbformat_minor": 2
}
